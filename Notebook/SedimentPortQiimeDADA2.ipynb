{
 "cells": [
  {
   "cell_type": "code",
   "execution_count": null,
   "metadata": {
    "button": false,
    "collapsed": true,
    "deletable": true,
    "new_sheet": false,
    "run_control": {
     "read_only": false
    }
   },
   "outputs": [],
   "source": [
    "# running qiime2-2020.2"
   ]
  },
  {
   "cell_type": "code",
   "execution_count": null,
   "metadata": {
    "button": false,
    "collapsed": true,
    "deletable": true,
    "new_sheet": false,
    "run_control": {
     "read_only": false
    }
   },
   "outputs": [],
   "source": [
    "!qiime cutadapt trim-paired \\\n",
    "--i-demultiplexed-sequences /space/home/rosales/projects/2018_sediments_larvae/2020_analysis/demux.qza \\\n",
    "--p-cores 10 \\\n",
    "--p-front-f GTGYCAGCMGCCGCGGTAA \\\n",
    "--p-front-r GGACTACHVGGGTWTCTAAT \\\n",
    "--o-trimmed-sequences demux_trim_sed.qza "
   ]
  },
  {
   "cell_type": "code",
   "execution_count": null,
   "metadata": {
    "button": false,
    "collapsed": true,
    "deletable": true,
    "new_sheet": false,
    "run_control": {
     "read_only": false
    }
   },
   "outputs": [],
   "source": [
    "!qiime demux summarize \\\n",
    "--i-data demux_trim_sed.qza \\\n",
    "--o-visualization demux_trim_sed.qzv"
   ]
  },
  {
   "cell_type": "code",
   "execution_count": null,
   "metadata": {
    "button": false,
    "collapsed": true,
    "deletable": true,
    "new_sheet": false,
    "run_control": {
     "read_only": false
    }
   },
   "outputs": [],
   "source": [
    "qiime dada2 denoise-paired \\\n",
    "--i-demultiplexed-seqs demux_trim_sed.qza \\\n",
    "--p-trunc-len-f 205 \\\n",
    "--p-trunc-len-r 78 \\\n",
    "--p-trim-left-f 12 \\\n",
    "--p-trim-left-r 19 \\\n",
    "--p-n-threads 10 \\\n",
    "--o-representative-sequences rep_seqs_sed.qza \\\n",
    "--o-table table_sed.qza \\\n",
    "--o-denoising-stats dada_stats_sed"
   ]
  },
  {
   "cell_type": "code",
   "execution_count": null,
   "metadata": {
    "button": false,
    "collapsed": true,
    "deletable": true,
    "new_sheet": false,
    "run_control": {
     "read_only": false
    }
   },
   "outputs": [],
   "source": [
    "qiime feature-table summarize \\\n",
    "--i-table  table_sed.qza \\\n",
    "--o-visualization table_sed.qzv \\\n",
    "--m-sample-metadata-file  /space/home/rosales/projects/2018_sediments_larvae/Meta_sediment_larvae.txt\n",
    "\n"
   ]
  },
  {
   "cell_type": "code",
   "execution_count": null,
   "metadata": {
    "button": false,
    "collapsed": true,
    "deletable": true,
    "new_sheet": false,
    "run_control": {
     "read_only": false
    }
   },
   "outputs": [],
   "source": [
    "qiime feature-classifier classify-sklearn \\\n",
    "--i-classifier /space/home/rosales/databases/silva-138-99-515-806-nb-classifier.qza \\\n",
    "--i-reads rep_seqs_sed.qza \\\n",
    "--p-n-jobs -7 \\\n",
    "--o-classification taxonomy_sed.qza"
   ]
  },
  {
   "cell_type": "code",
   "execution_count": null,
   "metadata": {
    "button": false,
    "collapsed": true,
    "deletable": true,
    "new_sheet": false,
    "run_control": {
     "read_only": false
    }
   },
   "outputs": [],
   "source": [
    "qiime taxa barplot \\\n",
    "--i-table table_sed.qza \\\n",
    "--i-taxonomy \\\n",
    "taxonomy_sed.qza \\\n",
    "--m-metadata-file /space/home/rosales/projects/2018_sediments_larvae/Meta_sediment_larvae.txt \\\n",
    "--o-visualization taxa-bar"
   ]
  },
  {
   "cell_type": "code",
   "execution_count": null,
   "metadata": {
    "button": false,
    "collapsed": true,
    "deletable": true,
    "new_sheet": false,
    "run_control": {
     "read_only": false
    }
   },
   "outputs": [],
   "source": [
    "qiime taxa filter-table \\\n",
    "--i-table table_sed.qza  \\\n",
    "--i-taxonomy taxonomy_sed.qza \\\n",
    "--p-exclude Mitochondria,Chloroplast \\\n",
    "--p-include d__Bacteria,d__Archaea \\\n",
    "--o-filtered-table table-Micro_sed.qza"
   ]
  },
  {
   "cell_type": "code",
   "execution_count": null,
   "metadata": {
    "button": false,
    "collapsed": true,
    "deletable": true,
    "new_sheet": false,
    "run_control": {
     "read_only": false
    }
   },
   "outputs": [],
   "source": [
    "qiime taxa barplot \\\n",
    "--i-table table-Micro_sed.qza \\\n",
    "--i-taxonomy  taxonomy_sed.qza  \\\n",
    "--m-metadata-file /space/home/rosales/projects/2018_sediments_larvae/Meta_sediment_larvae.txt \\\n",
    "--o-visualization taxa-bar_micro"
   ]
  },
  {
   "cell_type": "code",
   "execution_count": null,
   "metadata": {
    "button": false,
    "collapsed": true,
    "deletable": true,
    "new_sheet": false,
    "run_control": {
     "read_only": false
    }
   },
   "outputs": [],
   "source": [
    "qiime alignment mafft \\\n",
    "--i-sequences rep_seqs_sed.qza \\\n",
    "--o-alignment aligned_rep_seqs_sed.qza\n",
    "\n",
    "qiime alignment mask \\\n",
    "--i-alignment aligned_rep_seqs_sed.qza \\\n",
    "--o-masked-alignment masked_aligned_rep_seqs_sed.qza\n",
    "\n",
    "qiime phylogeny fasttree \\\n",
    "--i-alignment masked_aligned_rep_seqs_sed.qza \\\n",
    "--o-tree unroot_masked_aligned_rep_sed.qza\n",
    "\n",
    "qiime phylogeny midpoint-root  --i-tree unroot_masked_aligned_rep_sed.qza --o-rooted-tree root_masked_aligned_rep_sed.qza"
   ]
  },
  {
   "cell_type": "code",
   "execution_count": null,
   "metadata": {
    "button": false,
    "collapsed": true,
    "deletable": true,
    "new_sheet": false,
    "run_control": {
     "read_only": false
    }
   },
   "outputs": [],
   "source": [
    "qiime tools export --input-path table-Micro_sed.qza  --output-path exported_sed\n",
    "qiime tools export --input-path root_masked_aligned_rep_sed.qza  --output-path exported_sed\n",
    "qiime tools export --input-path taxonomy_sed.qza  --output-path exported_sed"
   ]
  },
  {
   "cell_type": "code",
   "execution_count": 2,
   "metadata": {
    "button": false,
    "collapsed": false,
    "deletable": true,
    "new_sheet": false,
    "run_control": {
     "read_only": false
    }
   },
   "outputs": [
    {
     "name": "stdout",
     "output_type": "stream",
     "text": [
      "/Users/stephanie.rosales/Documents/sedimentXaymara/2020_analysis\n",
      "/Users/stephanie.rosales/Documents/sedimentXaymara/2020_analysis\r\n"
     ]
    }
   ],
   "source": [
    "%cd /Users/stephanie.rosales/Documents/sedimentXaymara/2020_analysis/\n",
    "!pwd"
   ]
  },
  {
   "cell_type": "code",
   "execution_count": 6,
   "metadata": {
    "button": false,
    "collapsed": false,
    "deletable": true,
    "new_sheet": false,
    "run_control": {
     "read_only": false
    }
   },
   "outputs": [
    {
     "name": "stdout",
     "output_type": "stream",
     "text": [
      "\u001b[32mSaved Visualization to: /Users/stephanie.rosales/Documents/sedimentXaymara/2020_analysis/table-Micro_sed.qzv\u001b[0m\r\n"
     ]
    }
   ],
   "source": [
    "!qiime feature-table summarize \\\n",
    "--i-table /Users/stephanie.rosales/Documents/sedimentXaymara/2020_analysis/table-Micro_sed.qza \\\n",
    "--o-visualization /Users/stephanie.rosales/Documents/sedimentXaymara/2020_analysis/table-Micro_sed.qzv \\\n",
    "--m-sample-metadata-file /Users/stephanie.rosales/Documents/sedimentXaymara/Meta_sediment_larvae.txt\n",
    "\n"
   ]
  },
  {
   "cell_type": "code",
   "execution_count": 14,
   "metadata": {
    "button": false,
    "collapsed": false,
    "deletable": true,
    "new_sheet": false,
    "run_control": {
     "read_only": false
    }
   },
   "outputs": [
    {
     "name": "stdout",
     "output_type": "stream",
     "text": [
      "\u001b[32mSaved FeatureTable[Frequency] to: table-Micro_sedFil2.qza\u001b[0m\r\n"
     ]
    }
   ],
   "source": [
    "!qiime feature-table filter-features \\\n",
    "--i-table /Users/stephanie.rosales/Documents/sedimentXaymara/2020_analysis/table-Micro_sed.qza \\\n",
    "--p-min-samples 2 \\\n",
    "--p-min-frequency 2 \\\n",
    "--o-filtered-table table-Micro_sedFil2.qza\n"
   ]
  },
  {
   "cell_type": "code",
   "execution_count": 15,
   "metadata": {
    "button": false,
    "collapsed": false,
    "deletable": true,
    "new_sheet": false,
    "run_control": {
     "read_only": false
    }
   },
   "outputs": [
    {
     "name": "stdout",
     "output_type": "stream",
     "text": [
      "\u001b[32mSaved Visualization to: table-Micro_sedFil2.qzv\u001b[0m\r\n"
     ]
    }
   ],
   "source": [
    "!qiime feature-table summarize \\\n",
    "--i-table table-Micro_sedFil2.qza \\\n",
    "--o-visualization table-Micro_sedFil2.qzv \\\n",
    "--m-sample-metadata-file /Users/stephanie.rosales/Documents/sedimentXaymara/Meta_sediment_larvae.txt\n"
   ]
  },
  {
   "cell_type": "code",
   "execution_count": 12,
   "metadata": {
    "button": false,
    "collapsed": false,
    "deletable": true,
    "new_sheet": false,
    "run_control": {
     "read_only": false
    }
   },
   "outputs": [
    {
     "name": "stdout",
     "output_type": "stream",
     "text": [
      "\u001b[32mSaved FeatureTable[Frequency] to: table-Micro_sedFil2_rare.qza\u001b[0m\n",
      "\u001b[32mSaved Visualization to: table-Micro_sedFil2_rare.qzv\u001b[0m\n"
     ]
    }
   ],
   "source": [
    "!qiime feature-table rarefy \\\n",
    "--i-table table-Micro_sedFil2.qza \\\n",
    "--p-sampling-depth 46794 \\\n",
    "--o-rarefied-table table-Micro_sedFil2_rare.qza\n",
    "\n",
    "!qiime feature-table summarize \\\n",
    "--i-table table-Micro_sedFil2_rare.qza \\\n",
    "--o-visualization table-Micro_sedFil2_rare.qzv \\\n",
    "--m-sample-metadata-file /Users/stephanie.rosales/Documents/sedimentXaymara/Meta_sediment_larvae.txt\n"
   ]
  },
  {
   "cell_type": "code",
   "execution_count": 14,
   "metadata": {
    "button": false,
    "collapsed": false,
    "deletable": true,
    "new_sheet": false,
    "run_control": {
     "read_only": false
    }
   },
   "outputs": [
    {
     "name": "stdout",
     "output_type": "stream",
     "text": [
      "\u001b[32mExported table-Micro_sedFil2_rare.qza as BIOMV210DirFmt to directory /Users/stephanie.rosales/Documents/sedimentXaymara/2020_analysis/export_RARE\u001b[0m\r\n"
     ]
    }
   ],
   "source": [
    "!qiime tools export --input-path table-Micro_sedFil2_rare.qza  --output-path /Users/stephanie.rosales/Documents/sedimentXaymara/2020_analysis/export_RARE\n"
   ]
  },
  {
   "cell_type": "code",
   "execution_count": 20,
   "metadata": {
    "button": false,
    "collapsed": true,
    "deletable": true,
    "new_sheet": false,
    "run_control": {
     "read_only": false
    }
   },
   "outputs": [],
   "source": [
    "!biom  convert \\\n",
    "--input-fp /Users/stephanie.rosales/Documents/sedimentXaymara/2020_analysis/export_RARE/feature-table.biom \\\n",
    "--to-tsv \\\n",
    "-o /Users/stephanie.rosales/Documents/sedimentXaymara/2020_analysis/export_RARE/feature_rare_sed"
   ]
  },
  {
   "cell_type": "code",
   "execution_count": 29,
   "metadata": {
    "button": false,
    "collapsed": false,
    "deletable": true,
    "new_sheet": false,
    "run_control": {
     "read_only": false
    }
   },
   "outputs": [
    {
     "name": "stdout",
     "output_type": "stream",
     "text": [
      "\u001b[32mSaved FeatureTable[Frequency] to: Port-tableFil2.qza\u001b[0m\r\n"
     ]
    }
   ],
   "source": [
    "!qiime feature-table filter-samples \\\n",
    "  --i-table table-Micro_sedFil2.qza \\\n",
    "  --m-metadata-file /Users/stephanie.rosales/Documents/sedimentXaymara/Meta_sediment_larvae.txt \\\n",
    "  --p-where \"[Site]='Port'\" \\\n",
    "  --o-filtered-table Port-tableFil2.qza"
   ]
  },
  {
   "cell_type": "code",
   "execution_count": 5,
   "metadata": {
    "button": false,
    "collapsed": false,
    "deletable": true,
    "new_sheet": false,
    "run_control": {
     "read_only": false
    }
   },
   "outputs": [
    {
     "name": "stdout",
     "output_type": "stream",
     "text": [
      "\u001b[32mSaved FeatureData[Differential] to: aldex2/differentials.qza\u001b[0m\r\n"
     ]
    }
   ],
   "source": [
    "!qiime aldex2 aldex2 \\\n",
    "    --i-table Port-tableFil2.qza \\\n",
    "    --m-metadata-file /Users/stephanie.rosales/Documents/sedimentXaymara/Meta_sediment_larvae.txt \\\n",
    "    --m-metadata-column Year \\\n",
    "    --output-dir aldex2"
   ]
  },
  {
   "cell_type": "code",
   "execution_count": 7,
   "metadata": {
    "button": false,
    "collapsed": false,
    "deletable": true,
    "new_sheet": false,
    "run_control": {
     "read_only": false
    }
   },
   "outputs": [
    {
     "name": "stdout",
     "output_type": "stream",
     "text": [
      "\u001b[32mSaved Visualization to: aldex2/differentials.qzv\u001b[0m\r\n"
     ]
    }
   ],
   "source": [
    "!qiime aldex2 effect-plot \\\n",
    "    --i-table aldex2/differentials.qza \\\n",
    "    --o-visualization aldex2/differentials.qzv"
   ]
  },
  {
   "cell_type": "code",
   "execution_count": 9,
   "metadata": {
    "button": false,
    "collapsed": false,
    "deletable": true,
    "new_sheet": false,
    "run_control": {
     "read_only": false
    }
   },
   "outputs": [
    {
     "name": "stdout",
     "output_type": "stream",
     "text": [
      "\u001b[32mSaved FeatureData[Differential] to: aldex2/sig_port.qza\u001b[0m\r\n"
     ]
    }
   ],
   "source": [
    "!qiime aldex2 extract-differences \\\n",
    "    --i-table aldex2/differentials.qza \\\n",
    "    --o-differentials aldex2/sig_port \\\n",
    "    --p-sig-threshold 0.1 \\\n",
    "    --p-effect-threshold 0 \\\n",
    "    --p-difference-threshold 0"
   ]
  },
  {
   "cell_type": "code",
   "execution_count": 11,
   "metadata": {
    "button": false,
    "collapsed": false,
    "deletable": true,
    "new_sheet": false,
    "run_control": {
     "read_only": false
    }
   },
   "outputs": [
    {
     "name": "stdout",
     "output_type": "stream",
     "text": [
      "\u001b[32mExported aldex2/sig_port.qza as DifferentialDirectoryFormat to directory aldex2/\u001b[0m\r\n"
     ]
    }
   ],
   "source": [
    "!qiime tools export \\\n",
    "    --input-path aldex2/sig_port.qza \\\n",
    "    --output-path aldex2/"
   ]
  },
  {
   "cell_type": "code",
   "execution_count": 15,
   "metadata": {
    "button": false,
    "collapsed": true,
    "deletable": true,
    "new_sheet": false,
    "run_control": {
     "read_only": false
    }
   },
   "outputs": [],
   "source": [
    "!sourcetracker2 gibbs \\\n",
    "-i /Users/stephanie.rosales/Documents/sedimentXaymara/2020_analysis/export_RARE/feature-table.biom \\\n",
    "-m /Users/stephanie.rosales/Documents/sedimentXaymara/Meta_sediment_larvae.txt \\\n",
    "--output_dir /Users/stephanie.rosales/Documents/sedimentXaymara/2020_analysis/Source6"
   ]
  },
  {
   "cell_type": "code",
   "execution_count": null,
   "metadata": {
    "button": false,
    "collapsed": true,
    "deletable": true,
    "new_sheet": false,
    "run_control": {
     "read_only": false
    }
   },
   "outputs": [],
   "source": [
    "!sourcetracker2 gibbs \\\n",
    "-i /Users/stephanie.rosales/Documents/sedimentXaymara/2020_analysis/export_RARE/feature-table.biom \\\n",
    "-m /Users/stephanie.rosales/Documents/sedimentXaymara/Meta_sediment_larvae.txt \\\n",
    "#--per_sink_feature_assignment \\\n",
    "--output_dir /Users/stephanie.rosales/Documents/sedimentXaymara/2020_analysis/Source2016"
   ]
  },
  {
   "cell_type": "code",
   "execution_count": 16,
   "metadata": {
    "button": false,
    "collapsed": true,
    "deletable": true,
    "new_sheet": false,
    "run_control": {
     "read_only": false
    }
   },
   "outputs": [],
   "source": [
    "import matplotlib.pyplot as plt\n",
    "import pandas as pd\n",
    "\n",
    "%matplotlib inline"
   ]
  },
  {
   "cell_type": "code",
   "execution_count": 17,
   "metadata": {
    "button": false,
    "collapsed": false,
    "deletable": true,
    "new_sheet": false,
    "run_control": {
     "read_only": false
    }
   },
   "outputs": [
    {
     "name": "stdout",
     "output_type": "stream",
     "text": [
      "/Users/stephanie.rosales/Documents/sedimentXaymara/2020_analysis/Source6\n"
     ]
    }
   ],
   "source": [
    "%cd /Users/stephanie.rosales/Documents/sedimentXaymara/2020_analysis/Source6"
   ]
  },
  {
   "cell_type": "code",
   "execution_count": 18,
   "metadata": {
    "button": false,
    "collapsed": false,
    "deletable": true,
    "new_sheet": false,
    "run_control": {
     "read_only": false
    }
   },
   "outputs": [
    {
     "data": {
      "text/html": [
       "<div>\n",
       "<style scoped>\n",
       "    .dataframe tbody tr th:only-of-type {\n",
       "        vertical-align: middle;\n",
       "    }\n",
       "\n",
       "    .dataframe tbody tr th {\n",
       "        vertical-align: top;\n",
       "    }\n",
       "\n",
       "    .dataframe thead th {\n",
       "        text-align: right;\n",
       "    }\n",
       "</style>\n",
       "<table border=\"1\" class=\"dataframe\">\n",
       "  <thead>\n",
       "    <tr style=\"text-align: right;\">\n",
       "      <th></th>\n",
       "      <th>Port-2016</th>\n",
       "      <th>Port-2017</th>\n",
       "      <th>Unknown</th>\n",
       "    </tr>\n",
       "    <tr>\n",
       "      <th>SampleID</th>\n",
       "      <th></th>\n",
       "      <th></th>\n",
       "      <th></th>\n",
       "    </tr>\n",
       "  </thead>\n",
       "  <tbody>\n",
       "    <tr>\n",
       "      <th>R1B</th>\n",
       "      <td>0.0171</td>\n",
       "      <td>0.2256</td>\n",
       "      <td>0.7573</td>\n",
       "    </tr>\n",
       "    <tr>\n",
       "      <th>R1C</th>\n",
       "      <td>0.0427</td>\n",
       "      <td>0.2043</td>\n",
       "      <td>0.7530</td>\n",
       "    </tr>\n",
       "    <tr>\n",
       "      <th>R2B</th>\n",
       "      <td>0.0776</td>\n",
       "      <td>0.3102</td>\n",
       "      <td>0.6122</td>\n",
       "    </tr>\n",
       "    <tr>\n",
       "      <th>R2C</th>\n",
       "      <td>0.0914</td>\n",
       "      <td>0.2653</td>\n",
       "      <td>0.6433</td>\n",
       "    </tr>\n",
       "    <tr>\n",
       "      <th>E3</th>\n",
       "      <td>0.2695</td>\n",
       "      <td>0.1366</td>\n",
       "      <td>0.5939</td>\n",
       "    </tr>\n",
       "    <tr>\n",
       "      <th>E2</th>\n",
       "      <td>0.2629</td>\n",
       "      <td>0.1821</td>\n",
       "      <td>0.5550</td>\n",
       "    </tr>\n",
       "    <tr>\n",
       "      <th>E1</th>\n",
       "      <td>0.3422</td>\n",
       "      <td>0.1749</td>\n",
       "      <td>0.4829</td>\n",
       "    </tr>\n",
       "    <tr>\n",
       "      <th>E4</th>\n",
       "      <td>0.3313</td>\n",
       "      <td>0.1217</td>\n",
       "      <td>0.5470</td>\n",
       "    </tr>\n",
       "  </tbody>\n",
       "</table>\n",
       "</div>"
      ],
      "text/plain": [
       "          Port-2016  Port-2017  Unknown\n",
       "SampleID                               \n",
       "R1B          0.0171     0.2256   0.7573\n",
       "R1C          0.0427     0.2043   0.7530\n",
       "R2B          0.0776     0.3102   0.6122\n",
       "R2C          0.0914     0.2653   0.6433\n",
       "E3           0.2695     0.1366   0.5939\n",
       "E2           0.2629     0.1821   0.5550\n",
       "E1           0.3422     0.1749   0.4829\n",
       "E4           0.3313     0.1217   0.5470"
      ]
     },
     "execution_count": 18,
     "metadata": {},
     "output_type": "execute_result"
    }
   ],
   "source": [
    "results = pd.read_csv('mixing_proportions.txt', sep='\\t', index_col=0)\n",
    "results"
   ]
  },
  {
   "cell_type": "code",
   "execution_count": 19,
   "metadata": {
    "button": false,
    "collapsed": false,
    "deletable": true,
    "new_sheet": false,
    "run_control": {
     "read_only": false
    }
   },
   "outputs": [
    {
     "data": {
      "text/plain": [
       "<matplotlib.axes._subplots.AxesSubplot at 0x11088d710>"
      ]
     },
     "execution_count": 19,
     "metadata": {},
     "output_type": "execute_result"
    },
    {
     "data": {
      "image/png": "[encoded data removed]",
      "text/plain": [
       "<Figure size 576x432 with 1 Axes>"
      ]
     },
     "metadata": {
      "needs_background": "light"
     },
     "output_type": "display_data"
    }
   ],
   "source": [
    "results.plot(kind='bar', grid=True, figsize=(8,6), ylim=(0,0.9))"
   ]
  },
  {
   "cell_type": "code",
   "execution_count": 20,
   "metadata": {
    "button": false,
    "collapsed": true,
    "deletable": true,
    "new_sheet": false,
    "run_control": {
     "read_only": false
    }
   },
   "outputs": [],
   "source": [
    "stdevs = pd.read_csv('mixing_proportions_stds.txt', sep='\\t', index_col=0)"
   ]
  },
  {
   "cell_type": "code",
   "execution_count": 21,
   "metadata": {
    "button": false,
    "collapsed": false,
    "deletable": true,
    "new_sheet": false,
    "run_control": {
     "read_only": false
    }
   },
   "outputs": [
    {
     "data": {
      "text/plain": [
       "<matplotlib.axes._subplots.AxesSubplot at 0x112a15080>"
      ]
     },
     "execution_count": 21,
     "metadata": {},
     "output_type": "execute_result"
    },
    {
     "data": {
      "image/png": "[encoded data removed]",
      "text/plain": [
       "<Figure size 576x432 with 1 Axes>"
      ]
     },
     "metadata": {
      "needs_background": "light"
     },
     "output_type": "display_data"
    }
   ],
   "source": [
    "# Plot mixing proportions with yerr\n",
    "results.plot(kind='bar', grid=True, figsize=(8,6), ylim=(0,0.9), yerr=stdevs)"
   ]
  },
  {
   "cell_type": "code",
   "execution_count": 22,
   "metadata": {
    "button": false,
    "collapsed": false,
    "deletable": true,
    "new_sheet": false,
    "run_control": {
     "read_only": false
    }
   },
   "outputs": [
    {
     "data": {
      "text/plain": [
       "<matplotlib.legend.Legend at 0x112af8128>"
      ]
     },
     "execution_count": 22,
     "metadata": {},
     "output_type": "execute_result"
    },
    {
     "data": {
      "image/png": "[encoded data removed]",
      "text/plain": [
       "<Figure size 432x288 with 1 Axes>"
      ]
     },
     "metadata": {
      "needs_background": "light"
     },
     "output_type": "display_data"
    }
   ],
   "source": [
    "# set figure in matplotlib\n",
    "fig, ax = plt.subplots(1,1)\n",
    "\n",
    "# read in the dataframe\n",
    "# use 'ax=ax' to assign the dataframe to the matplotlib axes object\n",
    "results.plot(kind='line', lw=5, ax=ax)\n",
    "\n",
    "# set options\n",
    "ax.set_ylabel('Proportions')\n",
    "ax.set_xlabel('Sample')\n",
    "ax.set_title('Mixing Proportions')\n",
    "\n",
    "# move legend\n",
    "ax.legend(bbox_to_anchor=(1.4, 0.4))"
   ]
  },
  {
   "cell_type": "code",
   "execution_count": 23,
   "metadata": {
    "button": false,
    "collapsed": true,
    "deletable": true,
    "new_sheet": false,
    "run_control": {
     "read_only": false
    }
   },
   "outputs": [],
   "source": [
    "!sourcetracker2 gibbs \\\n",
    "-i /Users/stephanie.rosales/Documents/sedimentXaymara/2020_analysis/export_RARE/feature-table.biom \\\n",
    "-m /Users/stephanie.rosales/Documents/sedimentXaymara/Meta_sediment_larvae.txt \\\n",
    "--output_dir /Users/stephanie.rosales/Documents/sedimentXaymara/2020_analysis/Source2016"
   ]
  },
  {
   "cell_type": "code",
   "execution_count": 24,
   "metadata": {
    "button": false,
    "collapsed": false,
    "deletable": true,
    "new_sheet": false,
    "run_control": {
     "read_only": false
    }
   },
   "outputs": [
    {
     "name": "stdout",
     "output_type": "stream",
     "text": [
      "/Users/stephanie.rosales/Documents/sedimentXaymara/2020_analysis/Source2016\n"
     ]
    }
   ],
   "source": [
    "%cd /Users/stephanie.rosales/Documents/sedimentXaymara/2020_analysis/Source2016/"
   ]
  },
  {
   "cell_type": "code",
   "execution_count": 25,
   "metadata": {
    "button": false,
    "collapsed": false,
    "deletable": true,
    "new_sheet": false,
    "run_control": {
     "read_only": false
    }
   },
   "outputs": [
    {
     "data": {
      "text/html": [
       "<div>\n",
       "<style scoped>\n",
       "    .dataframe tbody tr th:only-of-type {\n",
       "        vertical-align: middle;\n",
       "    }\n",
       "\n",
       "    .dataframe tbody tr th {\n",
       "        vertical-align: top;\n",
       "    }\n",
       "\n",
       "    .dataframe thead th {\n",
       "        text-align: right;\n",
       "    }\n",
       "</style>\n",
       "<table border=\"1\" class=\"dataframe\">\n",
       "  <thead>\n",
       "    <tr style=\"text-align: right;\">\n",
       "      <th></th>\n",
       "      <th>Port-2016</th>\n",
       "      <th>Unknown</th>\n",
       "    </tr>\n",
       "    <tr>\n",
       "      <th>SampleID</th>\n",
       "      <th></th>\n",
       "      <th></th>\n",
       "    </tr>\n",
       "  </thead>\n",
       "  <tbody>\n",
       "    <tr>\n",
       "      <th>E3</th>\n",
       "      <td>0.3453</td>\n",
       "      <td>0.6547</td>\n",
       "    </tr>\n",
       "    <tr>\n",
       "      <th>E2</th>\n",
       "      <td>0.3535</td>\n",
       "      <td>0.6465</td>\n",
       "    </tr>\n",
       "    <tr>\n",
       "      <th>E1</th>\n",
       "      <td>0.3484</td>\n",
       "      <td>0.6516</td>\n",
       "    </tr>\n",
       "    <tr>\n",
       "      <th>E4</th>\n",
       "      <td>0.3760</td>\n",
       "      <td>0.6240</td>\n",
       "    </tr>\n",
       "  </tbody>\n",
       "</table>\n",
       "</div>"
      ],
      "text/plain": [
       "          Port-2016  Unknown\n",
       "SampleID                    \n",
       "E3           0.3453   0.6547\n",
       "E2           0.3535   0.6465\n",
       "E1           0.3484   0.6516\n",
       "E4           0.3760   0.6240"
      ]
     },
     "execution_count": 25,
     "metadata": {},
     "output_type": "execute_result"
    }
   ],
   "source": [
    "results = pd.read_csv('mixing_proportions.txt', sep='\\t', index_col=0)\n",
    "results"
   ]
  },
  {
   "cell_type": "code",
   "execution_count": 10,
   "metadata": {
    "button": false,
    "collapsed": true,
    "deletable": true,
    "new_sheet": false,
    "run_control": {
     "read_only": false
    }
   },
   "outputs": [],
   "source": [
    "!sourcetracker2 \\\n",
    "-i /Users/stephanie.rosales/Documents/sedimentXaymara/2020_analysis/exported_sed/feature-table.biom\\\n",
    "-m /Users/stephanie.rosales/Documents/sedimentXaymara/Meta_sediment_larvae.txt \\\n",
    "--source_rarefaction_depth 72119 \\\n",
    "--per_sink_feature_assignments \\\n",
    "--output_dir /Users/stephanie.rosales/Documents/sedimentXaymara/2020_analysis/Sourcedev1"
   ]
  }
 ],
 "metadata": {
  "kernelspec": {
   "display_name": "Python 3",
   "language": "python",
   "name": "python3"
  },
  "language_info": {
   "codemirror_mode": {
    "name": "ipython",
    "version": 3
   },
   "file_extension": ".py",
   "mimetype": "text/x-python",
   "name": "python",
   "nbconvert_exporter": "python",
   "pygments_lexer": "ipython3",
   "version": "3.6.10"
  }
 },
 "nbformat": 4,
 "nbformat_minor": 2
}
