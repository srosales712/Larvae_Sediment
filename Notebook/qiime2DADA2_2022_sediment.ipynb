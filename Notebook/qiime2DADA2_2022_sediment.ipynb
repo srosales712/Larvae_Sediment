{
 "cells": [
  {
   "cell_type": "code",
   "execution_count": 3,
   "id": "35cd8401",
   "metadata": {},
   "outputs": [
    {
     "name": "stdout",
     "output_type": "stream",
     "text": [
      "\u001b[32mSaved SampleData[PairedEndSequencesWithQuality] to: demux_sediment2022.qza\u001b[0m\n",
      "\u001b[32mSaved ErrorCorrectionDetails to: demux_sediment_details.qza\u001b[0m\n",
      "\u001b[0m"
     ]
    }
   ],
   "source": [
    "!qiime demux emp-paired \\\n",
    "--i-seqs ../sediment_mixed.qza \\\n",
    "--m-barcodes-file ../Meta_sediment_larvae.txt \\\n",
    "--m-barcodes-column BarcodeSequence \\\n",
    "--p-rev-comp-barcodes \\\n",
    "--p-no-golay-error-correction \\\n",
    "--o-per-sample-sequences demux_sediment2022.qza \\\n",
    "--o-error-correction-details demux_sediment_details.qza"
   ]
  },
  {
   "cell_type": "code",
   "execution_count": 1,
   "id": "af2c5e58",
   "metadata": {},
   "outputs": [
    {
     "name": "stdout",
     "output_type": "stream",
     "text": [
      "\u001b[32mSaved Visualization to: demux_sediment2022.qzv\u001b[0m\n",
      "\u001b[0m"
     ]
    }
   ],
   "source": [
    "!qiime demux summarize \\\n",
    "--i-data demux_sediment2022.qza \\\n",
    "--o-visualization demux_sediment2022.qzv"
   ]
  },
  {
   "cell_type": "code",
   "execution_count": 3,
   "id": "4717ebd7",
   "metadata": {},
   "outputs": [
    {
     "name": "stdout",
     "output_type": "stream",
     "text": [
      "\u001b[32mSaved SampleData[PairedEndSequencesWithQuality] to: trim_demux_sediment2022.qza\u001b[0m\n",
      "\u001b[0m"
     ]
    }
   ],
   "source": [
    "!qiime cutadapt trim-paired \\\n",
    "--i-demultiplexed-sequences demux_sediment2022.qza \\\n",
    "--p-cores 10 \\\n",
    "--p-front-f GTGYCAGCMGCCGCGGTAA \\\n",
    "--p-front-r GGACTACHVGGGTWTCTAAT \\\n",
    "--o-trimmed-sequences trim_demux_sediment2022.qza"
   ]
  },
  {
   "cell_type": "code",
   "execution_count": 5,
   "id": "792e1340",
   "metadata": {},
   "outputs": [
    {
     "name": "stdout",
     "output_type": "stream",
     "text": [
      "\u001b[32mSaved Visualization to: trim_demux_sediment2022.qzv\u001b[0m\n",
      "\u001b[0m"
     ]
    }
   ],
   "source": [
    "!qiime demux summarize \\\n",
    "--i-data trim_demux_sediment2022.qza \\\n",
    "--o-visualization trim_demux_sediment2022.qzv"
   ]
  },
  {
   "cell_type": "code",
   "execution_count": 8,
   "id": "dae35fb8",
   "metadata": {},
   "outputs": [
    {
     "name": "stdout",
     "output_type": "stream",
     "text": [
      "\u001b[32mSaved FeatureTable[Frequency] to: table_sed_2022.qza\u001b[0m\n",
      "\u001b[32mSaved FeatureData[Sequence] to: rep_seqs_sed_2022.qza\u001b[0m\n",
      "\u001b[32mSaved SampleData[DADA2Stats] to: dada_stats_sed_2022.qza\u001b[0m\n",
      "\u001b[0m"
     ]
    }
   ],
   "source": [
    "!qiime dada2 denoise-single \\\n",
    "--i-demultiplexed-seqs trim_demux_sediment2022.qza \\\n",
    "--p-trunc-len 205 \\\n",
    "--p-n-threads 10 \\\n",
    "--o-representative-sequences rep_seqs_sed_2022.qza \\\n",
    "--o-table table_sed_2022.qza \\\n",
    "--o-denoising-stats dada_stats_sed_2022.qza\n"
   ]
  },
  {
   "cell_type": "code",
   "execution_count": 5,
   "id": "f41d1682",
   "metadata": {},
   "outputs": [
    {
     "name": "stdout",
     "output_type": "stream",
     "text": [
      "\u001b[32mSaved FeatureData[Taxonomy] to: taxonomy_sed_2022.qza\u001b[0m\n",
      "\u001b[0m"
     ]
    }
   ],
   "source": [
    "!qiime feature-classifier classify-consensus-vsearch \\\n",
    "  --i-reference-taxonomy /space/home/rosales/databases/SILVA_DBs/silva-138-99-tax.qza \\\n",
    "  --i-reference-reads /space/home/rosales/databases/SILVA_DBs/silva-138-99-seqs.qza \\\n",
    "  --i-query rep_seqs_sed_2022.qza \\\n",
    "  --p-maxaccepts 1 \\\n",
    "   --p-threads 20 \\\n",
    "--o-classification taxonomy_sed_2022.qza"
   ]
  },
  {
   "cell_type": "code",
   "execution_count": 7,
   "id": "2348968a",
   "metadata": {},
   "outputs": [
    {
     "name": "stdout",
     "output_type": "stream",
     "text": [
      "\u001b[32mSaved FeatureTable[Frequency] to: table_Micro_sed_2022.qza\u001b[0m\n",
      "\u001b[0m"
     ]
    }
   ],
   "source": [
    "!qiime taxa filter-table \\\n",
    "--i-table table_sed_2022.qza \\\n",
    "--i-taxonomy taxonomy_sed_2022.qza \\\n",
    "--p-exclude Mitochondria,Chloroplast \\\n",
    "--p-include d__Bacteria,d__Archaea \\\n",
    "--o-filtered-table table_Micro_sed_2022.qza"
   ]
  },
  {
   "cell_type": "code",
   "execution_count": 9,
   "id": "6710d899",
   "metadata": {},
   "outputs": [
    {
     "name": "stdout",
     "output_type": "stream",
     "text": [
      "\u001b[32mSaved FeatureData[Sequence] to: rep_Micro_seqs_sed_2022.qza\u001b[0m\r\n",
      "\u001b[0m"
     ]
    }
   ],
   "source": [
    "!qiime taxa filter-seqs \\\n",
    "--i-sequences rep_seqs_sed_2022.qza \\\n",
    "--i-taxonomy taxonomy_sed_2022.qza \\\n",
    "--p-exclude Mitochondria,Chloroplast \\\n",
    "--p-include d__Bacteria,d__Archaea \\\n",
    "--o-filtered-sequences rep_Micro_seqs_sed_2022.qza"
   ]
  },
  {
   "cell_type": "code",
   "execution_count": 12,
   "id": "d5a3aead",
   "metadata": {},
   "outputs": [
    {
     "name": "stdout",
     "output_type": "stream",
     "text": [
      "\u001b[32mSaved FeatureData[AlignedSequence] to: aligned_rep_seqs_sed_2022.qza\u001b[0m\n",
      "\u001b[0m\u001b[32mSaved FeatureData[AlignedSequence] to: masked_aligned_rep_seqs_sed_2022.qza\u001b[0m\n",
      "\u001b[0m\u001b[32mSaved Phylogeny[Unrooted] to: unroot_masked_aligned_rep_sed_2022.qza\u001b[0m\n",
      "\u001b[0m\u001b[32mSaved Phylogeny[Rooted] to: root_masked_aligned_rep_sed_2022.qza\u001b[0m\n",
      "\u001b[0m"
     ]
    }
   ],
   "source": [
    "!qiime alignment mafft \\\n",
    "--i-sequences rep_Micro_seqs_sed_2022.qza \\\n",
    "--o-alignment aligned_rep_seqs_sed_2022.qza\n",
    "\n",
    "!qiime alignment mask \\\n",
    "--i-alignment aligned_rep_seqs_sed_2022.qza \\\n",
    "--o-masked-alignment masked_aligned_rep_seqs_sed_2022.qza\n",
    "\n",
    "!qiime phylogeny fasttree \\\n",
    "--i-alignment masked_aligned_rep_seqs_sed_2022.qza \\\n",
    "--o-tree unroot_masked_aligned_rep_sed_2022.qza\n",
    "\n",
    "!qiime phylogeny midpoint-root \\\n",
    "--i-tree unroot_masked_aligned_rep_sed_2022.qza \\\n",
    "--o-rooted-tree root_masked_aligned_rep_sed_2022.qza"
   ]
  },
  {
   "cell_type": "code",
   "execution_count": 14,
   "id": "85669bc8",
   "metadata": {},
   "outputs": [
    {
     "name": "stdout",
     "output_type": "stream",
     "text": [
      "aligned_rep_seqs_sed_2022.qza\t      root_masked_aligned_rep_sed_2022.qza\r\n",
      "dada_stats_sed_2022.qza\t\t      table_Micro_sed_2022.qza\r\n",
      "demux_sediment2022.qza\t\t      table_sed_2022.qza\r\n",
      "demux_sediment2022.qzv\t\t      taxonomy_sed_2022.qza\r\n",
      "demux_sediment_details.qza\t      trim_demux_sediment2022.qza\r\n",
      "masked_aligned_rep_seqs_sed_2022.qza  trim_demux_sediment2022.qzv\r\n",
      "rep_Micro_seqs_sed_2022.qza\t      unroot_masked_aligned_rep_sed_2022.qza\r\n",
      "rep_seqs_sed_2022.qza\t\t      Untitled.ipynb\r\n"
     ]
    }
   ],
   "source": [
    "!ls"
   ]
  }
 ],
 "metadata": {
  "kernelspec": {
   "display_name": "Python 3 (ipykernel)",
   "language": "python",
   "name": "python3"
  },
  "language_info": {
   "codemirror_mode": {
    "name": "ipython",
    "version": 3
   },
   "file_extension": ".py",
   "mimetype": "text/x-python",
   "name": "python",
   "nbconvert_exporter": "python",
   "pygments_lexer": "ipython3",
   "version": "3.8.12"
  }
 },
 "nbformat": 4,
 "nbformat_minor": 5
}
